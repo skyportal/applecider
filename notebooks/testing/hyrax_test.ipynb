{
 "cells": [
  {
   "cell_type": "code",
   "execution_count": null,
   "id": "e89ebf45",
   "metadata": {},
   "outputs": [],
   "source": [
    "from hyrax import Hyrax\n",
    "\n",
    "h = Hyrax(config_file='./astrominn_testing_runtime_config.toml')\n",
    "\n",
    "# This also works if using Hyrax>=0.6.3\n",
    "# h = Hyrax()\n",
    "# h.set_config('model.name', 'AppleCider.models.hyrax_models.astrominn.AstroMiNN')"
   ]
  },
  {
   "cell_type": "code",
   "execution_count": null,
   "id": "d956e341",
   "metadata": {},
   "outputs": [],
   "source": [
    "m = h.model()\n",
    "print(m)"
   ]
  },
  {
   "cell_type": "code",
   "execution_count": null,
   "id": "efa5c19c",
   "metadata": {},
   "outputs": [],
   "source": [
    "h.config['model']['AstroMiNN']"
   ]
  },
  {
   "cell_type": "code",
   "execution_count": null,
   "id": "899f495c",
   "metadata": {},
   "outputs": [],
   "source": [
    "ds = h.prepare()\n",
    "ds[0]"
   ]
  },
  {
   "cell_type": "code",
   "execution_count": null,
   "id": "e49be51b",
   "metadata": {},
   "outputs": [],
   "source": [
    "m = h.train()"
   ]
  }
 ],
 "metadata": {
  "kernelspec": {
   "display_name": "applecider",
   "language": "python",
   "name": "python3"
  },
  "language_info": {
   "codemirror_mode": {
    "name": "ipython",
    "version": 3
   },
   "file_extension": ".py",
   "mimetype": "text/x-python",
   "name": "python",
   "nbconvert_exporter": "python",
   "pygments_lexer": "ipython3",
   "version": "3.12.11"
  }
 },
 "nbformat": 4,
 "nbformat_minor": 5
}
